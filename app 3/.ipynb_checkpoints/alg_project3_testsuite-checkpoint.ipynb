{
 "metadata": {
  "name": "",
  "signature": "sha256:e1b43a33fe22dec7f716938bf0458b4e19a280736dd958d79790dbef752bb3eb"
 },
 "nbformat": 3,
 "nbformat_minor": 0,
 "worksheets": [
  {
   "cells": [
    {
     "cell_type": "code",
     "collapsed": false,
     "input": [
      "\"\"\"\n",
      "Testing code for clustering methods in Project 3\n",
      "\n",
      "hierarchical_clustering(cluster_list, num_clusters)\n",
      "kmeans_clustering(cluster_list, num_clusters, num_iterations)\n",
      "\n",
      "Import your solution code below as \"student\"\n",
      "\"\"\"\n",
      "\n",
      "import random\n",
      "import urllib2\n",
      "\n",
      "# Use CodeSkulptor or download these Python files for use on the desktop\n",
      "import poc_simpletest      # http://www.codeskulptor.org/#poc_simpletest.py\n",
      "import alg_cluster         # http://www.codeskulptor.org/#alg_cluster.py\n",
      "\n",
      "import alg_project3_solution as student\n",
      "\n",
      "\n",
      "############################################################\n",
      "# Load data tables\n",
      "\n",
      "DIRECTORY = \"http://commondatastorage.googleapis.com/codeskulptor-assets/\"\n",
      "DATA_3108_URL = DIRECTORY + \"data_clustering/unifiedCancerData_3108.csv\"\n",
      "DATA_896_URL = DIRECTORY + \"data_clustering/unifiedCancerData_896.csv\"\n",
      "DATA_290_URL = DIRECTORY + \"data_clustering/unifiedCancerData_290.csv\"\n",
      "DATA_111_URL = DIRECTORY + \"data_clustering/unifiedCancerData_111.csv\"\n",
      "DATA_24_URL = DIRECTORY + \"data_clustering/unifiedCancerData_24.csv\"\n",
      "\n",
      "\n",
      "def load_data_table(data_url):\n",
      "    \"\"\"\n",
      "    Import a table of county-based cancer risk data\n",
      "    from a csv format file\n",
      "    \"\"\"\n",
      "    data_file = urllib2.urlopen(data_url)\n",
      "    data = data_file.read()\n",
      "    data_lines = data.split('\\n')\n",
      "    print \"Loaded\", len(data_lines), \"data points\"\n",
      "    data_tokens = [line.split(',') for line in data_lines]\n",
      "    return [[tokens[0], float(tokens[1]), float(tokens[2]), int(tokens[3]), float(tokens[4])] \n",
      "            for tokens in data_tokens]\n",
      "\n",
      "\n",
      "\n",
      "#########################################################################\n",
      "# Helper function for converting list of clusters to set of county tuples\n",
      "\n",
      "def set_of_county_tuples(cluster_list):\n",
      "    \"\"\"\n",
      "    Input: A list of Cluster objects\n",
      "    Output: Set of sorted tuple of counties corresponds to counties in each cluster\n",
      "    \"\"\"\n",
      "    set_of_clusters = set([])\n",
      "    for cluster in cluster_list:\n",
      "        counties_in_cluster = cluster.fips_codes()\n",
      "        \n",
      "        # convert to immutable representation before adding to set\n",
      "        county_tuple = tuple(sorted(list(counties_in_cluster)))\n",
      "        set_of_clusters.add(county_tuple)\n",
      "    return set_of_clusters\n",
      "\n",
      "\n",
      "#############################################################################\n",
      "# Testing code\n",
      "\n",
      "def test_hierarchical24():\n",
      "    \"\"\"\n",
      "    Test for hierarchical clustering\n",
      "    Note that hierarchical_clustering mutates cluster_list\n",
      "    \"\"\"\n",
      "    \n",
      "    # load small data table\n",
      "    print\n",
      "    print \"Testing hierarchical_clustering on 24 county set\"\n",
      "    data_24_table = load_data_table(DATA_24_URL)\n",
      "    \n",
      "    \n",
      "    # test data of the form [size of output cluster, sets of county tuples]\n",
      "    hierdata_24 = [[23, set([('11001', '51013'), ('01073',), ('06059',), ('06037',), ('06029',), ('06071',), ('06075',), ('08031',), ('24510',), ('34013',), ('34039',), ('34017',), ('36061',), ('36005',), ('36047',), ('36059',), ('36081',), ('41051',), ('41067',), ('51840',), ('51760',), ('55079',), ('54009',)])],\n",
      "                   [22, set([('11001', '51013'), ('36047', '36081'), ('01073',), ('06059',), ('06037',), ('06029',), ('06071',), ('06075',), ('08031',), ('24510',), ('34013',), ('34039',), ('34017',), ('36061',), ('36005',), ('36059',), ('41051',), ('41067',), ('51840',), ('51760',), ('55079',), ('54009',)])],\n",
      "                   [21, set([('11001', '51013'), ('36005', '36061'), ('36047', '36081'), ('01073',), ('06059',), ('06037',), ('06029',), ('06071',), ('06075',), ('08031',), ('24510',), ('34013',), ('34039',), ('34017',), ('36059',), ('41051',), ('41067',), ('51840',), ('51760',), ('55079',), ('54009',)])],\n",
      "                   [20, set([('11001', '51013'), ('36005', '36061'), ('36047', '36081'), ('01073',), ('06059',), ('06037',), ('06029',), ('06071',), ('06075',), ('08031',), ('24510',), ('34039',), ('34013', '34017'), ('36059',), ('41051',), ('41067',), ('51840',), ('51760',), ('55079',), ('54009',)])],\n",
      "                   [19, set([('34013', '34017', '34039'), ('11001', '51013'), ('36005', '36061'), ('36047', '36081'), ('01073',), ('06059',), ('06037',), ('06029',), ('06071',), ('06075',), ('08031',), ('24510',), ('36059',), ('41051',), ('41067',), ('51840',), ('51760',), ('55079',), ('54009',)])],\n",
      "                   [18, set([('34013', '34017', '34039'), ('11001', '51013'), ('01073',), ('06059',), ('06037',), ('06029',), ('06071',), ('06075',), ('08031',), ('24510',), ('36059',), ('36005', '36047', '36061', '36081'), ('41051',), ('41067',), ('51840',), ('51760',), ('55079',), ('54009',)])],\n",
      "                   [17, set([('11001', '51013'), ('01073',), ('06059',), ('06037',), ('06029',), ('06071',), ('06075',), ('08031',), ('24510',), ('36059',), ('34013', '34017', '34039', '36005', '36047', '36061', '36081'), ('41051',), ('41067',), ('51840',), ('51760',), ('55079',), ('54009',)])],\n",
      "                   [16, set([('11001', '51013'), ('01073',), ('06059',), ('06037',), ('06029',), ('06071',), ('06075',), ('08031',), ('24510',), ('34013', '34017', '34039', '36005', '36047', '36059', '36061', '36081'), ('41051',), ('41067',), ('51840',), ('51760',), ('55079',), ('54009',)])],\n",
      "                   [15, set([('11001', '51013'), ('01073',), ('06059',), ('06037',), ('06029',), ('06071',), ('06075',), ('08031',), ('24510',), ('34013', '34017', '34039', '36005', '36047', '36059', '36061', '36081'), ('41051', '41067'), ('51840',), ('51760',), ('55079',), ('54009',)])],\n",
      "                   [14, set([('01073',), ('06059',), ('06037',), ('06029',), ('06071',), ('06075',), ('08031',), ('34013', '34017', '34039', '36005', '36047', '36059', '36061', '36081'), ('41051', '41067'), ('51840',), ('51760',), ('55079',), ('54009',), ('11001', '24510', '51013')])],\n",
      "                   [13, set([('06037', '06059'), ('01073',), ('06029',), ('06071',), ('06075',), ('08031',), ('34013', '34017', '34039', '36005', '36047', '36059', '36061', '36081'), ('41051', '41067'), ('51840',), ('51760',), ('55079',), ('54009',), ('11001', '24510', '51013')])],\n",
      "                   [12, set([('06037', '06059'), ('01073',), ('06029',), ('06071',), ('06075',), ('08031',), ('34013', '34017', '34039', '36005', '36047', '36059', '36061', '36081'), ('41051', '41067'), ('51760',), ('55079',), ('54009',), ('11001', '24510', '51013', '51840')])],\n",
      "                   [11, set([('06029', '06037', '06059'), ('01073',), ('06071',), ('06075',), ('08031',), ('34013', '34017', '34039', '36005', '36047', '36059', '36061', '36081'), ('41051', '41067'), ('51760',), ('55079',), ('54009',), ('11001', '24510', '51013', '51840')])],\n",
      "                   [10, set([('06029', '06037', '06059'), ('01073',), ('06071',), ('06075',), ('08031',), ('34013', '34017', '34039', '36005', '36047', '36059', '36061', '36081'), ('41051', '41067'), ('55079',), ('54009',), ('11001', '24510', '51013', '51760', '51840')])],\n",
      "                   [9, set([('01073',), ('06029', '06037', '06059', '06071'), ('06075',), ('08031',), ('34013', '34017', '34039', '36005', '36047', '36059', '36061', '36081'), ('41051', '41067'), ('55079',), ('54009',), ('11001', '24510', '51013', '51760', '51840')])],\n",
      "                   [8, set([('01073',), ('06029', '06037', '06059', '06071'), ('06075',), ('08031',), ('41051', '41067'), ('55079',), ('54009',), ('11001', '24510', '34013', '34017', '34039', '36005', '36047', '36059', '36061', '36081', '51013', '51760', '51840')])],\n",
      "                   [7, set([('01073',), ('06029', '06037', '06059', '06071'), ('06075',), ('08031',), ('41051', '41067'), ('55079',), ('11001', '24510', '34013', '34017', '34039', '36005', '36047', '36059', '36061', '36081', '51013', '51760', '51840', '54009')])],\n",
      "                   [6, set([('06029', '06037', '06059', '06071', '06075'), ('01073',), ('08031',), ('41051', '41067'), ('55079',), ('11001', '24510', '34013', '34017', '34039', '36005', '36047', '36059', '36061', '36081', '51013', '51760', '51840', '54009')])],\n",
      "                   [5, set([('06029', '06037', '06059', '06071', '06075'), ('08031',), ('41051', '41067'), ('01073', '55079'), ('11001', '24510', '34013', '34017', '34039', '36005', '36047', '36059', '36061', '36081', '51013', '51760', '51840', '54009')])],\n",
      "                   [4, set([('06029', '06037', '06059', '06071', '06075'), ('01073', '11001', '24510', '34013', '34017', '34039', '36005', '36047', '36059', '36061', '36081', '51013', '51760', '51840', '54009', '55079'), ('08031',), ('41051', '41067')])],\n",
      "                   [3, set([('06029', '06037', '06059', '06071', '06075', '41051', '41067'), ('01073', '11001', '24510', '34013', '34017', '34039', '36005', '36047', '36059', '36061', '36081', '51013', '51760', '51840', '54009', '55079'), ('08031',)])],\n",
      "                   [2, set([('01073', '11001', '24510', '34013', '34017', '34039', '36005', '36047', '36059', '36061', '36081', '51013', '51760', '51840', '54009', '55079'), ('06029', '06037', '06059', '06071', '06075', '08031', '41051', '41067')])],\n",
      "                   ]\n",
      "\n",
      "        \n",
      "    suite = poc_simpletest.TestSuite()\n",
      "    \n",
      "    for num_clusters, expected_county_tuple in hierdata_24:\n",
      "        \n",
      "        # build initial list of clusters for each test since mutation is allowed\n",
      "        cluster_list = []\n",
      "        for idx in range(len(data_24_table)):\n",
      "            line = data_24_table[idx]\n",
      "            cluster_list.append(alg_cluster.Cluster(set([line[0]]), line[1], line[2], line[3], line[4]))\n",
      "\n",
      "        # compute student answer\n",
      "        student_clustering = student.hierarchical_clustering(cluster_list, num_clusters)\n",
      "        student_county_tuple = set_of_county_tuples(student_clustering)\n",
      "        \n",
      "        # Prepare test\n",
      "        error_message = \"Testing hierarchical_clustering on 24 county table, num_clusters = \" + str(num_clusters)\n",
      "        error_message += \"\\nStudent county tuples: \" + str(student_county_tuple)\n",
      "        error_message += \"\\nExpected county tuples: \" + str(expected_county_tuple)\n",
      "        suite.run_test(student_county_tuple == expected_county_tuple, True, error_message)\n",
      "\n",
      "    suite.report_results()\n",
      "\n",
      "test_hierarchical24()\n",
      "\n",
      "\n",
      "\n",
      "def test_kmeans():\n",
      "    \"\"\"\n",
      "    Test for k-means clustering\n",
      "    kmeans_clustering should not mutate cluster_list, but make a new copy of each test anyways\n",
      "    \"\"\"\n",
      "    \n",
      "    # load small data table\n",
      "    print\n",
      "    print \"Testing kmeans_clustering on 24 county set\"\n",
      "    data_24_table = load_data_table(DATA_24_URL)\n",
      "        \n",
      "    kmeansdata_24 = [[15, 1, set([('34017', '36061'), ('06037',), ('06059',), ('36047',), ('36081',), ('06071', '08031'), ('36059',), ('36005',), ('55079',), ('34013', '34039'), ('06075',), ('01073',), ('06029',), ('41051', '41067'), ('11001', '24510', '51013', '51760', '51840', '54009')])], \n",
      "                     [15, 3, set([('34017', '36061'), ('06037', '06059'), ('06071',), ('36047',), ('36081',), ('08031',), ('36059',), ('36005',), ('55079',), ('34013', '34039'), ('06075',), ('01073',), ('06029',), ('41051', '41067'), ('11001', '24510', '51013', '51760', '51840', '54009')])],\n",
      "                     [15, 5, set([('34017', '36061'), ('06037', '06059'), ('06071',), ('36047',), ('36081',), ('08031',), ('36059',), ('36005',), ('55079',), ('34013', '34039'), ('06075',), ('01073',), ('06029',), ('41051', '41067'), ('11001', '24510', '51013', '51760', '51840', '54009')])],\n",
      "                     [10, 1, set([('34017', '36061'), ('06029', '06037', '06075'), ('11001', '24510', '34013', '34039', '51013', '51760', '51840', '54009'), ('06059',), ('36047',), ('36081',), ('06071', '08031', '41051', '41067'), ('36059',), ('36005',), ('01073', '55079')])],\n",
      "                     [10, 3, set([('34013', '34017', '36061'), ('06029', '06037', '06075'), ('08031', '41051', '41067'), ('06059', '06071'), ('34039', '36047'), ('36081',), ('36059',), ('36005',), ('01073', '55079'), ('11001', '24510', '51013', '51760', '51840', '54009')])],\n",
      "                     [10, 5, set([('34013', '34017', '36061'), ('06029', '06037', '06075'), ('08031', '41051', '41067'), ('06059', '06071'), ('34039', '36047'), ('36081',), ('36059',), ('36005',), ('01073', '55079'), ('11001', '24510', '51013', '51760', '51840', '54009')])],\n",
      "                     [5, 1, set([('06029', '06037', '06075'), ('01073', '11001', '24510', '34013', '34017', '34039', '36047', '51013', '51760', '51840', '54009', '55079'), ('06059',), ('36005', '36059', '36061', '36081'), ('06071', '08031', '41051', '41067')])],\n",
      "                     [5, 3, set([('06029', '06037', '06075'), ('11001', '24510', '34013', '34017', '34039', '36005', '36047', '36059', '36061', '36081', '51013'), ('08031', '41051', '41067'), ('06059', '06071'), ('01073', '51760', '51840', '54009', '55079')])],\n",
      "                     [5, 5, set([('06029', '06037', '06075'), ('08031', '41051', '41067'), ('06059', '06071'), ('01073', '55079'), ('11001', '24510', '34013', '34017', '34039', '36005', '36047', '36059', '36061', '36081', '51013', '51760', '51840', '54009')])]]    \n",
      "        \n",
      "    suite = poc_simpletest.TestSuite()    \n",
      "    \n",
      "    for num_clusters, num_iterations, expected_county_tuple in kmeansdata_24:\n",
      "        \n",
      "        # build initial list of clusters for each test since mutation is allowed\n",
      "        cluster_list = []\n",
      "        for idx in range(len(data_24_table)):\n",
      "            line = data_24_table[idx]\n",
      "            cluster_list.append(alg_cluster.Cluster(set([line[0]]), line[1], line[2], line[3], line[4]))\n",
      "\n",
      "        # compute student answer\n",
      "        student_clustering = student.kmeans_clustering(cluster_list, num_clusters, num_iterations)\n",
      "        student_county_tuple = set_of_county_tuples(student_clustering)\n",
      "        \n",
      "        # Prepare test\n",
      "        error_message = \"Testing kmeans_custering on 24 county table, num_clusters = \" + str(num_clusters)\n",
      "        error_message += \" num_iterations = \" + str(num_iterations)\n",
      "        error_message += \"\\nStudent county tuples: \" + str(student_county_tuple)\n",
      "        error_message += \"\\nExpected county tuples: \" + str(expected_county_tuple)\n",
      "        suite.run_test(student_county_tuple == expected_county_tuple, True, error_message)   \n",
      "\n",
      "    suite.report_results()\n",
      "    \n",
      "test_kmeans()"
     ],
     "language": "python",
     "metadata": {},
     "outputs": [
      {
       "ename": "ImportError",
       "evalue": "No module named user38_DJ2HQ2bB3Y_88",
       "output_type": "pyerr",
       "traceback": [
        "\u001b[1;31m---------------------------------------------------------------------------\u001b[0m\n\u001b[1;31mImportError\u001b[0m                               Traceback (most recent call last)",
        "\u001b[1;32m<ipython-input-3-cbcc5fd98340>\u001b[0m in \u001b[0;36m<module>\u001b[1;34m()\u001b[0m\n\u001b[0;32m     15\u001b[0m \u001b[1;32mimport\u001b[0m \u001b[0malg_cluster\u001b[0m         \u001b[1;31m# http://www.codeskulptor.org/#alg_cluster.py\u001b[0m\u001b[1;33m\u001b[0m\u001b[0m\n\u001b[0;32m     16\u001b[0m \u001b[1;33m\u001b[0m\u001b[0m\n\u001b[1;32m---> 17\u001b[1;33m \u001b[1;32mimport\u001b[0m \u001b[0muser38_DJ2HQ2bB3Y_88\u001b[0m \u001b[1;32mas\u001b[0m \u001b[0mstudent\u001b[0m\u001b[1;33m\u001b[0m\u001b[0m\n\u001b[0m\u001b[0;32m     18\u001b[0m \u001b[1;33m\u001b[0m\u001b[0m\n\u001b[0;32m     19\u001b[0m \u001b[1;33m\u001b[0m\u001b[0m\n",
        "\u001b[1;31mImportError\u001b[0m: No module named user38_DJ2HQ2bB3Y_88"
       ]
      }
     ],
     "prompt_number": 3
    },
    {
     "cell_type": "code",
     "collapsed": false,
     "input": [],
     "language": "python",
     "metadata": {},
     "outputs": [],
     "prompt_number": 3
    },
    {
     "cell_type": "code",
     "collapsed": false,
     "input": [],
     "language": "python",
     "metadata": {},
     "outputs": []
    }
   ],
   "metadata": {}
  }
 ]
}