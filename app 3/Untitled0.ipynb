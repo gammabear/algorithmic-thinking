{
 "metadata": {
  "name": "",
  "signature": "sha256:68e72e9bbb7f497fd3dfed78c01b52349debf9ebe3ab61d3d47b5bd9e1571ea2"
 },
 "nbformat": 3,
 "nbformat_minor": 0,
 "worksheets": []
}