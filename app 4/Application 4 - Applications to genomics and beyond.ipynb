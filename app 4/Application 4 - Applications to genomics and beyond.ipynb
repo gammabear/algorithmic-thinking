{
 "metadata": {
  "name": "",
  "signature": "sha256:e199eec6f679a843def21d19431dd909a90804fa7c83f4053579d563035e1fce"
 },
 "nbformat": 3,
 "nbformat_minor": 0,
 "worksheets": [
  {
   "cells": [
    {
     "cell_type": "code",
     "collapsed": false,
     "input": [
      "\"\"\"\n",
      "Provide code and solution for Application 4\n",
      "\"\"\"\n",
      "\n",
      "DESKTOP = True\n",
      "\n",
      "import math\n",
      "import random\n",
      "import urllib2\n",
      "\n",
      "\n",
      "if DESKTOP:\n",
      "    import matplotlib.pyplot as plt\n",
      "    import alg_project4_solution as student\n",
      "else:\n",
      "    import simpleplot\n",
      "    import userXX_XXXXXXX as student\n",
      "    \n",
      "\n",
      "# URLs for data files\n",
      "PAM50_URL = \"http://storage.googleapis.com/codeskulptor-alg/alg_PAM50.txt\"\n",
      "HUMAN_EYELESS_URL = \"http://storage.googleapis.com/codeskulptor-alg/alg_HumanEyelessProtein.txt\"\n",
      "FRUITFLY_EYELESS_URL = \"http://storage.googleapis.com/codeskulptor-alg/alg_FruitflyEyelessProtein.txt\"\n",
      "CONSENSUS_PAX_URL = \"http://storage.googleapis.com/codeskulptor-alg/alg_ConsensusPAXDomain.txt\"\n",
      "WORD_LIST_URL = \"http://storage.googleapis.com/codeskulptor-assets/assets_scrabble_words3.txt\"\n",
      "\n",
      "\n",
      "\n",
      "###############################################\n",
      "# provided code\n",
      "\n",
      "def read_scoring_matrix(filename):\n",
      "    \"\"\"\n",
      "    Read a scoring matrix from the file named filename.  \n",
      "\n",
      "    Argument:\n",
      "    filename -- name of file containing a scoring matrix\n",
      "\n",
      "    Returns:\n",
      "    A dictionary of dictionaries mapping X and Y characters to scores\n",
      "    \"\"\"\n",
      "    scoring_dict = {}\n",
      "    scoring_file = urllib2.urlopen(filename)\n",
      "    ykeys = scoring_file.readline()\n",
      "    ykeychars = ykeys.split()\n",
      "    for line in scoring_file.readlines():\n",
      "        vals = line.split()\n",
      "        xkey = vals.pop(0)\n",
      "        scoring_dict[xkey] = {}\n",
      "        for ykey, val in zip(ykeychars, vals):\n",
      "            scoring_dict[xkey][ykey] = int(val)\n",
      "    return scoring_dict\n",
      "\n",
      "\n",
      "\n",
      "\n",
      "def read_protein(filename):\n",
      "    \"\"\"\n",
      "    Read a protein sequence from the file named filename.\n",
      "\n",
      "    Arguments:\n",
      "    filename -- name of file containing a protein sequence\n",
      "\n",
      "    Returns:\n",
      "    A string representing the protein\n",
      "    \"\"\"\n",
      "    protein_file = urllib2.urlopen(filename)\n",
      "    protein_seq = protein_file.read()\n",
      "    protein_seq = protein_seq.rstrip()\n",
      "    return protein_seq\n",
      "\n",
      "\n",
      "def read_words(filename):\n",
      "    \"\"\"\n",
      "    Load word list from the file named filename.\n",
      "\n",
      "    Returns a list of strings.\n",
      "    \"\"\"\n",
      "    # load assets\n",
      "    word_file = urllib2.urlopen(filename)\n",
      "    \n",
      "    # read in files as string\n",
      "    words = word_file.read()\n",
      "    \n",
      "    # template lines and solution lines list of line string\n",
      "    word_list = words.split('\\n')\n",
      "    print \"Loaded a dictionary with\", len(word_list), \"words\"\n",
      "    return word_list\n",
      "\n",
      "\n",
      "def quest1():\n",
      "    \"\"\"\n",
      "    Read a protein sequence from the file named filename.\n",
      "    \"\"\"\n",
      "    # load data\n",
      "    human_protein = read_protein(HUMAN_EYELESS_URL)\n",
      "    #print \"h\", human_protein\n",
      "    fruitfly_protein = read_protein(FRUITFLY_EYELESS_URL)\n",
      "    #print \"f\", fruitfly_protein\n",
      "    scoring_matrix = read_scoring_matrix(PAM50_URL)\n",
      "\n",
      "    # compute local sequences\n",
      "    alignment_matrix = student.compute_alignment_matrix(human_protein, fruitfly_protein, scoring_matrix, False)\n",
      "    #print \"alignment_matrix\", alignment_matrix\n",
      "    \n",
      "    local_alignment_sequence = student.compute_local_alignment(human_protein, fruitfly_protein, scoring_matrix, alignment_matrix)\n",
      "    print \"local alignment\", local_alignment_sequence\n",
      "    return local_alignment_sequence\n",
      "    \n",
      "      \n",
      "\n",
      "def quest2():\n",
      "    score, human, fruitfly = quest1()\n",
      "    \n",
      "    local_human = human.replace('-', '')\n",
      "    print \"human_eyeless_seq\", local_human\n",
      "    local_fruitfly = fruitfly.replace('-', '')\n",
      "    consensus_pax = read_protein(CONSENSUS_PAX_URL)\n",
      "    scoring_matrix = read_scoring_matrix(PAM50_URL)\n",
      "    \n",
      "    # compute global alignment of each local sequence vs PAX\n",
      "    alignment_matrix_human_pax = student.compute_alignment_matrix(local_human, consensus_pax, scoring_matrix, True)\n",
      "    #rint \"human pax\", alignment_matrix_human_pax\n",
      "    #def compute_global_alignment(seq_x, seq_y, scoring_matrix, alignment_matrix):\n",
      "    global_alignment_human_pax = student.compute_global_alignment(local_human, consensus_pax, scoring_matrix, alignment_matrix_human_pax)\n",
      "    print \"global alignment human pax\", global_alignment_human_pax\n",
      "    \n",
      "    print global_alignment_human_pax[1]\n",
      "    print global_alignment_human_pax[2]\n",
      "    compute_similarity(global_alignment_human_pax[1], global_alignment_human_pax[2])\n",
      "    \n",
      "    \n",
      "    alignment_matrix_fruitfly_pax = student.compute_alignment_matrix(local_fruitfly, consensus_pax, scoring_matrix, True)\n",
      "    global_alignment_fruitfly_pax = student.compute_global_alignment(local_fruitfly, consensus_pax, scoring_matrix, alignment_matrix_fruitfly_pax)\n",
      "    print \"global fruitfly pax\", global_alignment_fruitfly_pax\n",
      "    compute_similarity(global_alignment_fruitfly_pax[1], global_alignment_fruitfly_pax[2])\n",
      "    \n",
      "\n",
      "def compute_similarity(str1, str2):\n",
      "    count = 0\n",
      "    print \"len1\", len(str1)\n",
      "    print \"len2\", len(str2)\n",
      "    for idx in range(0, len(str1)):\n",
      "        #print \"comparing\", str1[idx], \"with\", str2[idx]\n",
      "        if str1[idx] == str2[idx]:\n",
      "            count = count + 1\n",
      "    \n",
      "    print \"count\", count\n",
      "    result = float(count) / len(str1)\n",
      "    print \"percent\", result\n",
      "    return result\n",
      "\n",
      "def generate_null_distribution(seq_x,seq_y, scoring_matrix, num_trials):\n",
      "    scoring_distribution = {}\n",
      "    \n",
      "      \n",
      "    for idx in range(0, num_trials):\n",
      "        seq_y_list = list(seq_y)\n",
      "        random.shuffle(seq_y_list)\n",
      "        rand_y = ''.join(seq_y_list)\n",
      "        alignment_matrix = student.compute_alignment_matrix(seq_x, rand_y, scoring_matrix, False)\n",
      "        score, seq_x_align ,seq_y_align  = student.compute_local_alignment(seq_x, rand_y, scoring_matrix, alignment_matrix)\n",
      "        #print \"score\", score\n",
      "        if not score in scoring_distribution:\n",
      "            scoring_distribution[score] = 1\n",
      "        else:\n",
      "            scoring_distribution[score] += 1\n",
      "\n",
      "    return scoring_distribution\n",
      "    \n",
      "\n",
      "    \n",
      "            \n",
      "def quest3():\n",
      "    print \"question 3\"\n",
      "    human_protein = read_protein(HUMAN_EYELESS_URL)\n",
      "    fruitfly_protein = read_protein(FRUITFLY_EYELESS_URL)\n",
      "    scoring_matrix = read_scoring_matrix(PAM50_URL)\n",
      "    distribution = generate_null_distribution(human_protein, fruitfly_protein, scoring_matrix, 1000)\n",
      "    \n",
      "    normalized_dist = {}\n",
      "    for score in distribution:\n",
      "        normalized_dist[score] = float(distribution[score])/1000\n",
      "    \n",
      "    plt.bar(normalized_dist.keys(), normalized_dist.values())\n",
      "\n",
      "    \n",
      "    title('Alignment score distribution for randomized protein sequence')\n",
      "    plt.xlabel('Local alignment scores')\n",
      "    plt.ylabel('Fraction of total trials')\n",
      "    return distribution\n",
      "    \n",
      "    \n",
      "def quest4():\n",
      "    distribution = quest3()\n",
      "    print \"dist\", distribution\n",
      "\n",
      "    #compute mean\n",
      "    sum_scores = 0\n",
      "    count_scores = 0\n",
      "    for score in distribution:\n",
      "        \n",
      "        sum_scores += score * distribution[score]\n",
      "        count_scores += distribution[score]\n",
      "    mean = float(sum_scores) / count_scores\n",
      "    print \"mean\", mean\n",
      "    \n",
      "    #compute standard deviation\n",
      "    sum_scores = 0\n",
      "    for score in distribution:\n",
      "        #print \"summing\" , distribution[score] * ((score - mean) ** 2) \n",
      "        sum_scores += distribution[score] * ((score - mean) ** 2) \n",
      "    #print \"sum s far\", sum_scores\n",
      "    #print \"sum_scores / count\", (sum_scores / count_scores)\n",
      "    std_dev = float(sum_scores / count_scores) ** (0.5)\n",
      "    print \"standard deviation\", std_dev\n",
      "    \n",
      "    \n",
      "#quest1()\n",
      "#quest2()\n",
      "#quest3()\n",
      "quest4()"
     ],
     "language": "python",
     "metadata": {},
     "outputs": [
      {
       "output_type": "stream",
       "stream": "stdout",
       "text": [
        "question 3\n",
        "dist"
       ]
      },
      {
       "output_type": "stream",
       "stream": "stdout",
       "text": [
        " {34: 1, 37: 1, 38: 1, 39: 2, 40: 5, 41: 4, 42: 11, 43: 32, 44: 37, 45: 48, 46: 64, 47: 64, 48: 77, 49: 68, 50: 73, 51: 64, 52: 58, 53: 58, 54: 41, 55: 38, 56: 41, 57: 31, 58: 26, 59: 18, 60: 29, 61: 15, 62: 7, 63: 16, 64: 10, 65: 7, 66: 12, 67: 12, 68: 3, 69: 5, 70: 3, 71: 4, 72: 3, 73: 2, 74: 1, 75: 2, 76: 1, 77: 2, 79: 1, 83: 1, 86: 1}\n",
        "mean 51.993\n",
        "standard deviation 6.85003291963\n"
       ]
      },
      {
       "metadata": {},
       "output_type": "display_data",
       "png": "[encoded data removed]",
       "text": [
        "<matplotlib.figure.Figure at 0xad14e80>"
       ]
      }
     ],
     "prompt_number": 81
    },
    {
     "cell_type": "code",
     "collapsed": false,
     "input": [
      "def quest7():\n",
      "    alphabet_set = set(['a', 'b', 'c', 'd', 'e', 'f', 'g', 'h', 'i', 'j', 'k', 'l', 'm', 'n', 'o', 'p', 'q', 'r', 's', 't', 'u', 'v', 'w', 'x', 'y', 'z'])\n",
      "\n",
      "    dist_scoring_matrix = student.build_scoring_matrix(alphabet_set, 2, 1, 0)\n",
      "    #print \"score matrix\", dist_scoring_matrix\n",
      "    \n",
      "    d1 = student.compute_alignment_matrix('bake', 'bake', dist_scoring_matrix, True)\n",
      "    print \"alignment_matrix\", d1\n",
      "    bb = student.compute_global_alignment('bake', 'bake', dist_scoring_matrix, d1)\n",
      "    print \"bb\", bb\n",
      "    \n",
      "    d2 = student.compute_alignment_matrix('kitten', 'sitting', dist_scoring_matrix, True)\n",
      "    print \"bca\", d2\n",
      "    bc = student.compute_global_alignment('kitten', 'sitting', dist_scoring_matrix, d2)\n",
      "    print \"bc\", bc\n",
      "\n",
      "#quest7()\n",
      "\n",
      "def quest8():\n",
      "    # load data\n",
      "    word_list = read_words(WORD_LIST_URL )\n",
      "    #print \"word list\", word_list\n",
      "    #word_list = ['aa']\n",
      "    result = check_spelling('firefly', 2, word_list)\n",
      "    print \"result\", result\n",
      "        \n",
      "    \n",
      "def check_spelling(checked_word, dist, word_list):\n",
      "    alphabet_set = set(['a', 'b', 'c', 'd', 'e', 'f', 'g', 'h', 'i', 'j', 'k', 'l', 'm', 'n', 'o', 'p', 'q', 'r', 's', 't', 'u', 'v', 'w', 'x', 'y', 'z'])\n",
      "    dist_scoring_matrix = student.build_scoring_matrix(alphabet_set, 2, 1, 0)\n",
      "\n",
      "    result = set()\n",
      "    for word in word_list:\n",
      "        alignment_matrix = student.compute_alignment_matrix(word, checked_word, dist_scoring_matrix, True)\n",
      "        score, str1, str2 = student.compute_global_alignment(word, checked_word, dist_scoring_matrix, alignment_matrix)\n",
      "        #print \"score\", score\n",
      "        edit_distance = len(word)+len(checked_word)-score\n",
      "        if edit_distance <= dist:\n",
      "            result.add(word)\n",
      "    return result\n",
      "    \n",
      "    \n",
      "quest8()\n",
      "    \n"
     ],
     "language": "python",
     "metadata": {},
     "outputs": [
      {
       "output_type": "stream",
       "stream": "stdout",
       "text": [
        "Loaded a dictionary with 79340 words\n",
        "result"
       ]
      },
      {
       "output_type": "stream",
       "stream": "stdout",
       "text": [
        " set(['firefly', 'tiredly', 'freely', 'fireclay', 'direly', 'finely', 'firstly', 'liefly', 'fixedly', 'refly', 'firmly'])\n"
       ]
      }
     ],
     "prompt_number": 203
    },
    {
     "cell_type": "code",
     "collapsed": false,
     "input": [],
     "language": "python",
     "metadata": {},
     "outputs": [],
     "prompt_number": 166
    },
    {
     "cell_type": "code",
     "collapsed": false,
     "input": [],
     "language": "python",
     "metadata": {},
     "outputs": [],
     "prompt_number": 166
    },
    {
     "cell_type": "code",
     "collapsed": false,
     "input": [],
     "language": "python",
     "metadata": {},
     "outputs": []
    }
   ],
   "metadata": {}
  }
 ]
}