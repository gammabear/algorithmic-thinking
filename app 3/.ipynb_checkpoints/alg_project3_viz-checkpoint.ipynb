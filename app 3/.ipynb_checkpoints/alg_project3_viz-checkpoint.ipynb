{
 "metadata": {
  "name": "",
  "signature": "sha256:1c6e22ed0b5fed93fcbcf8056a0447fd237a9ce1a096a8f6d5f25a18d2f63a13"
 },
 "nbformat": 3,
 "nbformat_minor": 0,
 "worksheets": [
  {
   "cells": [
    {
     "cell_type": "code",
     "collapsed": false,
     "input": [
      "\"\"\"\n",
      "Example code for creating and visualizing\n",
      "cluster of county-based cancer risk data\n",
      "\n",
      "Note that you must download the file\n",
      "http://www.codeskulptor.org/#alg_clusters_matplotlib.py\n",
      "to use the matplotlib version of this code\n",
      "\"\"\"\n",
      "\n",
      "# Flavor of Python - desktop or CodeSkulptor\n",
      "DESKTOP = True\n",
      "\n",
      "import math\n",
      "import random\n",
      "import urllib2\n",
      "import alg_cluster\n",
      "\n",
      "# conditional imports\n",
      "if DESKTOP:\n",
      "    import alg_project3_solution      # desktop project solution\n",
      "    import alg_clusters_matplotlib\n",
      "else:\n",
      "    import user38_DJ2HQ2bB3Y_88 as alg_project3_solution   # CodeSkulptor project solution\n",
      "    import alg_clusters_simplegui\n",
      "    import codeskulptor\n",
      "    codeskulptor.set_timeout(30)\n",
      "\n",
      "\n",
      "###################################################\n",
      "# Code to load data tables\n",
      "\n",
      "# URLs for cancer risk data tables of various sizes\n",
      "# Numbers indicate number of counties in data table\n",
      "\n",
      "DIRECTORY = \"http://commondatastorage.googleapis.com/codeskulptor-assets/\"\n",
      "DATA_3108_URL = DIRECTORY + \"data_clustering/unifiedCancerData_3108.csv\"\n",
      "DATA_896_URL = DIRECTORY + \"data_clustering/unifiedCancerData_896.csv\"\n",
      "DATA_290_URL = DIRECTORY + \"data_clustering/unifiedCancerData_290.csv\"\n",
      "DATA_111_URL = DIRECTORY + \"data_clustering/unifiedCancerData_111.csv\"\n",
      "\n",
      "\n",
      "def load_data_table(data_url):\n",
      "    \"\"\"\n",
      "    Import a table of county-based cancer risk data\n",
      "    from a csv format file\n",
      "    \"\"\"\n",
      "    data_file = urllib2.urlopen(data_url)\n",
      "    data = data_file.read()\n",
      "    data_lines = data.split('\\n')\n",
      "    print \"Loaded\", len(data_lines), \"data points\"\n",
      "    data_tokens = [line.split(',') for line in data_lines]\n",
      "    return [[tokens[0], float(tokens[1]), float(tokens[2]), int(tokens[3]), float(tokens[4])] \n",
      "            for tokens in data_tokens]\n",
      "\n",
      "\n",
      "############################################################\n",
      "# Code to create sequential clustering\n",
      "# Create alphabetical clusters for county data\n",
      "\n",
      "def sequential_clustering(singleton_list, num_clusters):\n",
      "    \"\"\"\n",
      "    Take a data table and create a list of clusters\n",
      "    by partitioning the table into clusters based on its ordering\n",
      "    \n",
      "    Note that method may return num_clusters or num_clusters + 1 final clusters\n",
      "    \"\"\"\n",
      "    \n",
      "    cluster_list = []\n",
      "    cluster_idx = 0\n",
      "    total_clusters = len(singleton_list)\n",
      "    cluster_size = float(total_clusters)  / num_clusters\n",
      "    \n",
      "    for cluster_idx in range(len(singleton_list)):\n",
      "        new_cluster = singleton_list[cluster_idx]\n",
      "        if math.floor(cluster_idx / cluster_size) != \\\n",
      "           math.floor((cluster_idx - 1) / cluster_size):\n",
      "            cluster_list.append(new_cluster)\n",
      "        else:\n",
      "            cluster_list[-1] = cluster_list[-1].merge_clusters(new_cluster)\n",
      "            \n",
      "    return cluster_list\n",
      "                \n",
      "\n",
      "#####################################################################\n",
      "# Code to load cancer data, compute a clustering and \n",
      "# visualize the results\n",
      "\n",
      "\n",
      "def run_example():\n",
      "    \"\"\"\n",
      "    Load a data table, compute a list of clusters and \n",
      "    plot a list of clusters\n",
      "\n",
      "    Set DESKTOP = True/False to use either matplotlib or simplegui\n",
      "    \"\"\"\n",
      "    data_table = load_data_table(DATA_3108_URL)\n",
      "    \n",
      "    singleton_list = []\n",
      "    for line in data_table:\n",
      "        singleton_list.append(alg_cluster.Cluster(set([line[0]]), line[1], line[2], line[3], line[4]))\n",
      "        \n",
      "    #cluster_list = sequential_clustering(singleton_list, 15)\t\n",
      "    \n",
      "    \n",
      "    #print \"Displaying\", len(cluster_list), \"sequential clusters\"\n",
      "\n",
      "    #cluster_list = alg_project3_solution.hierarchical_clustering(singleton_list, 15)\n",
      "    #print \"Displaying\", len(cluster_list), \"hierarchical clusters\"\n",
      "\n",
      "    cluster_list = alg_project3_solution.kmeans_clustering(singleton_list, 15, 5)\t\n",
      "    print \"Displaying\", len(cluster_list), \"k-means clusters\"\n",
      "\n",
      "            \n",
      "    # draw the clusters using matplotlib or simplegui\n",
      "    if DESKTOP:\n",
      "        alg_clusters_matplotlib.plot_clusters(data_table, cluster_list, True)\n",
      "    else:\n",
      "        alg_clusters_simplegui.PlotClusters(data_table, cluster_list)\n",
      "    \n",
      "run_example()"
     ],
     "language": "python",
     "metadata": {},
     "outputs": [
      {
       "output_type": "stream",
       "stream": "stdout",
       "text": [
        "Loaded 3108 data points\n",
        "Displaying"
       ]
      }
     ]
    },
    {
     "cell_type": "code",
     "collapsed": false,
     "input": [],
     "language": "python",
     "metadata": {},
     "outputs": []
    }
   ],
   "metadata": {}
  }
 ]
}