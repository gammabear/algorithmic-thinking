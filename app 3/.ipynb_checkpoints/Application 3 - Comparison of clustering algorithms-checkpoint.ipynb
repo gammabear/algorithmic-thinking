{
 "metadata": {
  "name": "",
  "signature": "sha256:b928798a5a62206292286a4ffe1dbf37b9afa4d2d263e523782f1648a6eb79f7"
 },
 "nbformat": 3,
 "nbformat_minor": 0,
 "worksheets": [
  {
   "cells": [
    {
     "cell_type": "code",
     "collapsed": false,
     "input": [
      "\"\"\"\n",
      "Template for Project 3\n",
      "Student will implement four functions:\n",
      "\n",
      "slow_closest_pairs(cluster_list)\n",
      "fast_closest_pair(cluster_list) - implement fast_helper()\n",
      "hierarchical_clustering(cluster_list, num_clusters)\n",
      "kmeans_clustering(cluster_list, num_clusters, num_iterations)\n",
      "\n",
      "where cluster_list is a list of clusters in the plane\n",
      "\"\"\"\n",
      "# Flavor of Python - desktop or CodeSkulptor\n",
      "DESKTOP = True\n",
      "\n",
      "%matplotlib inline\n",
      "from pylab import *\n",
      "import matplotlib.pyplot as plt\n",
      "import numpy as np\n",
      "import math\n",
      "import alg_cluster\n",
      "import urllib2\n",
      "import random\n",
      "import time\n",
      "import alg_project3_solution      # desktop project solution\n",
      "import alg_clusters_matplotlib\n",
      "\n",
      "#########################################################################\n",
      "# Helper function for converting list of clusters to set of county tuples\n",
      "\n",
      "def set_of_county_tuples(cluster_list):\n",
      "    \"\"\"\n",
      "    Input: A list of Cluster objects\n",
      "    Output: Set of sorted tuple of counties corresponds to counties in each cluster\n",
      "    \"\"\"\n",
      "    set_of_clusters = set([])\n",
      "    for cluster in cluster_list:\n",
      "        ##print cluster\n",
      "        #print \"cluster in cluster list\", cluster\n",
      "        \n",
      "        counties_in_cluster = cluster.fips_codes()\n",
      "        \n",
      "        # convert to immutable representation before adding to set\n",
      "        county_tuple = tuple(sorted(list(counties_in_cluster)))\n",
      "        set_of_clusters.add(county_tuple)\n",
      "    return set_of_clusters\n",
      "\n",
      "\n",
      "#############################################################################\n",
      "\n",
      "# Assets\n",
      "DIRECTORY = \"http://commondatastorage.googleapis.com/codeskulptor-assets/\"\n",
      "DATA_3108_URL = DIRECTORY + \"data_clustering/unifiedCancerData_3108.csv\"\n",
      "DATA_896_URL = DIRECTORY + \"data_clustering/unifiedCancerData_896.csv\"\n",
      "DATA_290_URL = DIRECTORY + \"data_clustering/unifiedCancerData_290.csv\"\n",
      "DATA_111_URL = DIRECTORY + \"data_clustering/unifiedCancerData_111.csv\"\n",
      "DATA_24_URL = DIRECTORY + \"data_clustering/unifiedCancerData_24.csv\"\n",
      "\n",
      "\n",
      "############################################################\n",
      "# Load data tables\n",
      "\n",
      "def load_data_table(data_url):\n",
      "    \"\"\"\n",
      "    Import a table of county-based cancer risk data\n",
      "    from a csv format file\n",
      "    \"\"\"\n",
      "    data_file = urllib2.urlopen(data_url)\n",
      "    data = data_file.read()\n",
      "    data_lines = data.split('\\n')\n",
      "    print \"Loaded\", len(data_lines), \"data points\"\n",
      "    data_tokens = [line.split(',') for line in data_lines]\n",
      "    return [[tokens[0], float(tokens[1]), float(tokens[2]), int(tokens[3]), float(tokens[4])] \n",
      "            for tokens in data_tokens]\n",
      "\n",
      "\n",
      "\n",
      "def pair_distance(cluster_list, idx1, idx2):\n",
      "    \"\"\"\n",
      "    Helper function to compute Euclidean distance between two clusters\n",
      "    in cluster_list with indices idx1 and idx2\n",
      "    \n",
      "    Returns tuple (dist, idx1, idx2) with idx1 < idx2 where dist is distance between\n",
      "    cluster_list[idx1] and cluster_list[idx2]\n",
      "    \"\"\"\n",
      "    return (cluster_list[idx1].distance(cluster_list[idx2]), idx1, idx2)\n",
      "\n",
      "\n",
      "def slow_closest_pairs(cluster_list):\n",
      "    \"\"\"\n",
      "    Compute the set of closest pairs of cluster in list of clusters\n",
      "    using O(n^2) all pairs algorithm\n",
      "    \n",
      "    Returns the set of all tuples of the form (dist, idx1, idx2) \n",
      "    where the cluster_list[idx1] and cluster_list[idx2] have minimum distance dist.   \n",
      "    \n",
      "    \"\"\"\n",
      "    result = set([(float(\"inf\"), -1, -1)])\n",
      "    min_distance = float(\"inf\")\n",
      "    for idx1 in range(0, len(cluster_list)):\n",
      "        for idx2 in range(idx1+1, len(cluster_list)):\n",
      "            pair_dist = pair_distance(cluster_list, idx1, idx2)[0]\n",
      "            if pair_dist < min_distance:\n",
      "                min_distance = pair_dist\n",
      "                result = set([(min_distance, idx1, idx2)])\n",
      "            if pair_dist == min_distance:\n",
      "                result.add((min_distance, idx1, idx2))\n",
      "    return result\n",
      "\n",
      "\n",
      "def fast_closest_pair(cluster_list):\n",
      "    \"\"\"\n",
      "    Compute a closest pair of clusters in cluster_list\n",
      "    using O(n log(n)) divide and conquer algorithm\n",
      "    \n",
      "    Returns a tuple (distance, idx1, idx2) with idx1 < idx 2 where\n",
      "    cluster_list[idx1] and cluster_list[idx2]\n",
      "    have the smallest distance dist of any pair of clusters\n",
      "    \"\"\"\n",
      "        \n",
      "    def fast_helper(cluster_list, horiz_order, vert_order):\n",
      "        \"\"\"\n",
      "        Divide and conquer method for computing distance between closest pair of points\n",
      "        Running time is O(n * log(n))\n",
      "        \n",
      "        horiz_order and vert_order are lists of indices for clusters\n",
      "        ordered horizontally and vertically\n",
      "        \n",
      "        Returns a tuple (distance, idx1, idx2) with idx1 < idx 2 where\n",
      "        cluster_list[idx1] and cluster_list[idx2]\n",
      "        have the smallest distance dist of any pair of clusters\n",
      "    \n",
      "        \"\"\"\n",
      "        # base case\n",
      "        size_h = len(horiz_order)\n",
      "        if size_h <= 3:          \n",
      "            s_list = []\n",
      "            for idx in horiz_order:\n",
      "                s_list.append(cluster_list[idx])\n",
      "            (distance, idx, jdx) = slow_closest_pairs(s_list).pop()\n",
      "            return (distance, horiz_order[idx], horiz_order[jdx])\n",
      "            \n",
      "        # divide\n",
      "        mid_idx = int(math.ceil(size_h/2)) \n",
      "        mid_hcoord =  0.5 * (cluster_list[horiz_order[mid_idx-1]].horiz_center() + cluster_list[horiz_order[mid_idx]].horiz_center())  # bug\n",
      "        horiz_order_left = horiz_order[0:mid_idx]\n",
      "        horiz_order_right = horiz_order[mid_idx:size_h]\n",
      "\n",
      "        \n",
      "        vcoord_and_index_left = [(cluster_list[idx].vert_center(), idx) \n",
      "                        for idx in horiz_order_left]\n",
      "        vcoord_and_index_left.sort()\n",
      "        vert_order_left = [vcoord_and_index_left[idx][1] for idx in range(len(vcoord_and_index_left))]\n",
      "\n",
      "        vcoord_and_index_right = [(cluster_list[idx].vert_center(), idx) \n",
      "                        for idx in horiz_order_right] \n",
      "        vcoord_and_index_right.sort()\n",
      "        vert_order_right = [vcoord_and_index_right[idx][1] for idx in range(len(vcoord_and_index_right))]\n",
      "\n",
      "        closest_pair_left = fast_helper(cluster_list, horiz_order_left, vert_order_left)\n",
      "        closest_pair_right = fast_helper(cluster_list, horiz_order_right, vert_order_right)\n",
      "        if closest_pair_left[0] < closest_pair_right[0]:\n",
      "            closest_pair = closest_pair_left\n",
      "        else:\n",
      "            closest_pair = closest_pair_right\n",
      "\n",
      "        # conquer\n",
      "        s_list = []\n",
      "        for idx in vert_order:\n",
      "            if cluster_list[idx].horiz_center() - mid_hcoord < closest_pair[0]:\n",
      "                s_list.append(idx)\n",
      "\n",
      "        for idx in range(0, len(s_list) - 1):\n",
      "            for jdx in range(idx + 1, min(idx + 4, len(s_list))):\n",
      "                distance = cluster_list[s_list[idx]].distance(cluster_list[s_list[jdx]])\n",
      "                if distance < closest_pair[0]:\n",
      "                    closest_pair = (distance, s_list[idx], s_list[jdx])\n",
      "  \n",
      "        return closest_pair\n",
      "            \n",
      "    # compute list of indices for the clusters ordered in the horizontal direction\n",
      "    hcoord_and_index = [(cluster_list[idx].horiz_center(), idx) \n",
      "                        for idx in range(len(cluster_list))] \n",
      "    \n",
      "    hcoord_and_index.sort()\n",
      "    \n",
      "    horiz_order = [hcoord_and_index[idx][1] for idx in range(len(hcoord_and_index))]\n",
      "    \n",
      "    # compute list of indices for the clusters ordered in vertical direction\n",
      "    vcoord_and_index = [(cluster_list[idx].vert_center(), idx) \n",
      "                        for idx in range(len(cluster_list))]    \n",
      "    vcoord_and_index.sort()\n",
      "    \n",
      "    vert_order = [vcoord_and_index[idx][1] for idx in range(len(vcoord_and_index))]\n",
      "    \n",
      "    # compute answer recursively\n",
      "    answer = fast_helper(cluster_list, horiz_order, vert_order) \n",
      "    \n",
      "    return (answer[0], min(answer[1:]), max(answer[1:]))\n",
      "\n",
      "    \n",
      "\n",
      "def hierarchical_clustering(cluster_list, num_clusters):\n",
      "    \"\"\"\n",
      "    Compute a hierarchical clustering of a set of clusters\n",
      "    Note: the function mutates cluster_list\n",
      "    \n",
      "    Input: List of clusters, number of clusters\n",
      "    Output: List of clusters whose length is num_clusters\n",
      "    \"\"\"\n",
      "    while len(cluster_list) > num_clusters:\n",
      "        closest_pair = fast_closest_pair(cluster_list)\n",
      "        cluster_i = cluster_list[closest_pair[1]]\n",
      "        cluster_j = cluster_list[closest_pair[2]]\n",
      "        cluster_i_union_j = cluster_i.merge_clusters(cluster_j)\n",
      "        cluster_list.append(cluster_i_union_j)\n",
      "        cluster_list.remove(cluster_i)\n",
      "        cluster_list.remove(cluster_j)\n",
      "    return cluster_list\n",
      "\n",
      "\n",
      "    \n",
      "def kmeans_clustering(cluster_list, num_clusters, num_iterations):\n",
      "    \"\"\"\n",
      "    Compute the k-means clustering of a set of clusters\n",
      "    Note: the function mutates cluster_list\n",
      "    \n",
      "    Input: List of clusters, number of clusters, number of iterations\n",
      "    Output: List of clusters whose length is num_clusters\n",
      "    \"\"\"\n",
      "    \n",
      "    # 2 initialize k-means clusters to be initial clusters with largest populations\n",
      "    population_and_index = [(cluster_list[idx].total_population(), idx) \n",
      "                        for idx in range(len(cluster_list))] \n",
      "    #print \"population\", population_and_index\n",
      "    \n",
      "    population_and_index.sort()\n",
      "    \n",
      "    #print \"population\", population_and_index\n",
      "    \n",
      "    population_order = [population_and_index[idx][1] for idx in range(len(population_and_index))]\n",
      "    \n",
      "    #print \"pop order\", population_order\n",
      "    \n",
      "    #print \"number of clusters\", len(cluster_list)\n",
      "    #print \"num clusters we want\", num_clusters\n",
      "    #print \"number of iterations\", num_iterations\n",
      "    \n",
      "    centers_list = []\n",
      "    for idx in range(len(cluster_list), len(cluster_list)-num_clusters, -1):\n",
      "        #print cluster_list[population_order[idx-1]]  #clusters sorted by pop\n",
      "        (hcoord, vcoord) = cluster_list[population_order[idx-1]].horiz_center(), cluster_list[population_order[idx-1]].vert_center()\n",
      "        #print \"(x,y)\", (hcoord, vcoord)\n",
      "        centers_list.append((hcoord, vcoord))\n",
      "    \n",
      "    #print \"centers\", centers_list    \n",
      " \n",
      "    #main for loop\n",
      "    for idx in range(0, num_iterations):\n",
      "        # initialize k empty clusters\n",
      "        k_list = [alg_cluster.Cluster(set([]),centers_list[idx][0], centers_list[idx][1], 0, 0.0) for idx in range(0, num_clusters)] \n",
      "        answer_list = [alg_cluster.Cluster(set([]),centers_list[idx][0], centers_list[idx][1], 0, 0.0) for idx in range(0, num_clusters)]\n",
      "        #print \"OG answer_list\", answer_list\n",
      "        #print \"len of answer\", len(answer_list)\n",
      "\n",
      "        for jdx in range(0, len(cluster_list)):\n",
      "            min_distance = float(\"inf\")\n",
      "            min_kdx = -1\n",
      "            for kdx in range(0, num_clusters):\n",
      "                #print \"jdx, kdx\", jdx, kdx\n",
      "                #print \"anwer_list, cluster_list\", answer_list[kdx], cluster_list[jdx]\n",
      "                #if jdx == 11 and kdx == 5:\n",
      "                    #print \"answer list\", answer_list\n",
      "                    #print \"answer_list5\", kdx, answer_list[kdx]\n",
      "                    #print \"clusterlist11\", cluster_list[jdx]\n",
      "                distance = k_list[kdx].distance(cluster_list[jdx])\n",
      "                #print \"distance from\", jdx, \"to\", kdx, distance\n",
      "                if distance < min_distance:\n",
      "                    min_distance = distance\n",
      "                    min_kdx = kdx\n",
      "            \n",
      "            #print \"for jdx=\", jdx, \"min kdx=\", min_kdx\n",
      "            answer_list[min_kdx].merge_clusters(cluster_list[jdx])\n",
      "            #print \"merged answer list\", answer_list\n",
      "        \n",
      "        # recompute its center\n",
      "        for kdx in range(0, num_clusters):\n",
      "            #print \"current center\", centers_list[kdx]\n",
      "            #print \"new horiz\", answer_list[kdx].horiz_center()\n",
      "            #print \"new vert\", answer_list[kdx].vert_center()\n",
      "            \n",
      "            (new_hcoord, new_vcoord) = answer_list[kdx].horiz_center(), answer_list[kdx].vert_center()\n",
      "            centers_list[kdx] = (new_hcoord, new_vcoord)\n",
      "       \n",
      "    return answer_list\n",
      "\n",
      "def test_fast():\n",
      "    \"\"\"\n",
      "    Test for fast_closest_pair\n",
      "    kmeans_clustering should not mutate cluster_list, but make a new copy of each test anyways\n",
      "    \"\"\"\n",
      "    data_24_table = load_data_table(DATA_24_URL)\n",
      "    cluster_list = []\n",
      "    for idx in range(len(data_24_table)):\n",
      "        line = data_24_table[idx]\n",
      "        cluster_list.append(alg_cluster.Cluster(set([line[0]]), line[1], line[2], line[3], line[4]))  \n",
      "    \n",
      "    #print \"OG cluster\", cluster_list\n",
      "    print \"distance, 1,2\", cluster_list[1].distance(cluster_list[2])\n",
      "    \n",
      "    print \"222slow closest\", slow_closest_pairs(cluster_list)\n",
      "    print \"222fast closest\", fast_closest_pair(cluster_list)\n",
      "\n",
      "def test_owl():\n",
      "    \"\"\"\n",
      "    Test for fast_closest_pair\n",
      "    kmeans_clustering should not mutate cluster_list, but make a new copy of each test anyways\n",
      "    \"\"\"\n",
      "    #cluster_list =  [alg_cluster.Cluster(set([]), 86.0830468948, -59.1167021002, 1, 0), alg_cluster.Cluster(set([]), -67.5757896921, -6.52776165362, 1, 0), alg_cluster.Cluster(set([]), 27.9189799338, 17.6102324623, 1, 0), alg_cluster.Cluster(set([]), 24.1715119657, -31.4764880007, 1, 0), alg_cluster.Cluster(set([]), 55.9347036476, -48.5578980541, 1, 0), alg_cluster.Cluster(set([]), -45.668221279, -40.2204165013, 1, 0), alg_cluster.Cluster(set([]), -92.1133508388, 41.1264397769, 1, 0), alg_cluster.Cluster(set([]), -61.335334931, -39.9238885371, 1, 0), alg_cluster.Cluster(set([]), -41.3587295901, 40.3245981796, 1, 0), alg_cluster.Cluster(set([]), -12.4948622123, 98.3102571423, 1, 0), alg_cluster.Cluster(set([]), 84.331269134, 87.4096437485, 1, 0), alg_cluster.Cluster(set([]), -64.3793374021, -29.3604139823, 1, 0), alg_cluster.Cluster(set([]), 88.1863663091, 87.1319063356, 1, 0), alg_cluster.Cluster(set([]), -17.1454765601, 63.574041831, 1, 0), alg_cluster.Cluster(set([]), 94.065223686, -24.2896714813, 1, 0), alg_cluster.Cluster(set([]), 41.3803043889, 33.56171226, 1, 0), alg_cluster.Cluster(set([]), 85.2641824191, 52.6931063404, 1, 0), alg_cluster.Cluster(set([]), -56.3981249563, -83.5611722575, 1, 0), alg_cluster.Cluster(set([]), -67.2363423428, -56.91272576, 1, 0), alg_cluster.Cluster(set([]), 28.8357363013, 14.416522777, 1, 0)]\n",
      "    #cluster_base =  [alg_cluster.Cluster(set([]), 86.0830468948, -59.1167021002, 1, 0), alg_cluster.Cluster(set([]), -67.5757896921, -6.52776165362, 1, 0), alg_cluster.Cluster(set([]), 27.9189799338, 17.6102324623, 1, 0)]\n",
      "    #cluster_four =  [alg_cluster.Cluster(set([]), 86.0830468948, -59.1167021002, 1, 0), alg_cluster.Cluster(set([]), -67.5757896921, -6.52776165362, 1, 0), alg_cluster.Cluster(set([]), 27.9189799338, 17.6102324623, 1, 0), alg_cluster.Cluster(set([]), 24.1715119657, -31.4764880007, 1, 0)]\n",
      "    #cluster_five =  [alg_cluster.Cluster(set([]), 86.0830468948, -59.1167021002, 1, 0), alg_cluster.Cluster(set([]), -67.5757896921, -6.52776165362, 1, 0), alg_cluster.Cluster(set([]), 27.9189799338, 17.6102324623, 1, 0), alg_cluster.Cluster(set([]), 24.1715119657, -31.4764880007, 1, 0), alg_cluster.Cluster(set([]), 55.9347036476, -48.5578980541, 1, 0)]\n",
      "    #cluster_six =   [alg_cluster.Cluster(set([]), 86.0830468948, -59.1167021002, 1, 0), alg_cluster.Cluster(set([]), -67.5757896921, -6.52776165362, 1, 0), alg_cluster.Cluster(set([]), 28.8357363013, 14.416522777, 1, 0)]\n",
      "    #cluster_seven = [alg_cluster.Cluster(set([]), 86.0830468948, -59.1167021002, 1, 0), alg_cluster.Cluster(set([]), -67.5757896921, -6.52776165362, 1, 0), alg_cluster.Cluster(set([]), 27.9189799338, 17.6102324623, 1, 0),alg_cluster.Cluster(set([]), 28.8357363013, 14.416522777, 1, 0)]\n",
      "    #cluster_eight = [alg_cluster.Cluster(set([]), 86.0830468948, -59.1167021002, 1, 0), alg_cluster.Cluster(set([]), -67.5757896921, -6.52776165362, 1, 0), alg_cluster.Cluster(set([]), 27.9189799338, 17.6102324623, 1, 0), alg_cluster.Cluster(set([]), 24.1715119657, -31.4764880007, 1, 0), alg_cluster.Cluster(set([]), 28.8357363013, 14.416522777, 1, 0)]\n",
      "    #cluster_nine =  [alg_cluster.Cluster(set([]), 86.0830468948, -59.1167021002, 1, 0), alg_cluster.Cluster(set([]), -67.5757896921, -6.52776165362, 1, 0), alg_cluster.Cluster(set([]), 27.9189799338, 17.6102324623, 1, 0), alg_cluster.Cluster(set([]), 24.1715119657, -31.4764880007, 1, 0), alg_cluster.Cluster(set([]), 55.9347036476, -48.5578980541, 1, 0),alg_cluster.Cluster(set([]), 28.8357363013, 14.416522777, 1, 0)]\n",
      "    #cluster_nine_left = [alg_cluster.Cluster(set([]), -67.5757896921, -6.52776165362, 1, 0), alg_cluster.Cluster(set([]), 24.1715119657, -31.4764880007, 1, 0), alg_cluster.Cluster(set([]), 27.9189799338, 17.6102324623, 1, 0)]\n",
      "    #cluster_nine_right = [alg_cluster.Cluster(set([]), 28.8357363013, 14.416522777, 1, 0), alg_cluster.Cluster(set([]), 55.9347036476, -48.5578980541, 1, 0), alg_cluster.Cluster(set([]), 86.0830468948, -59.1167021002, 1, 0)]\n",
      "    #print \"slow closest\" , slow_closest_pairs(cluster_list)\n",
      "    #print \"slow base\", slow_closest_pairs(cluster_base)\n",
      "    #print \"fast base\", fast_closest_pair(cluster_base)\n",
      "    #print \"slow five\", slow_closest_pairs(cluster_list)\n",
      "    #print \"fast five\", fast_closest_pair(cluster_list)\n",
      "\n",
      "    \n",
      "#test_fast()\n",
      "\n",
      "#test_owl()\n",
      "\n",
      "def test_kmeans():\n",
      "    \"\"\"\n",
      "    Test for hierarchial\n",
      " \n",
      "    \"\"\"\n",
      "    data_24_table = load_data_table(DATA_24_URL)\n",
      "    cluster_list = []\n",
      "    for idx in range(len(data_24_table)):\n",
      "        line = data_24_table[idx]\n",
      "        cluster_list.append(alg_cluster.Cluster(set([line[0]]), line[1], line[2], line[3], line[4]))\n",
      "        \n",
      "    print \"OG cluster\", cluster_list\n",
      "    #print \"h clustering answer\", hierarchical_clustering(cluster_list, 20)\n",
      "    student_clustering = kmeans_clustering(cluster_list, 15, 1)\n",
      "    student_county_tuple = set_of_county_tuples(student_clustering)\n",
      "    print student_county_tuple\n",
      "\n",
      "#test_kmeans()\n",
      "\n",
      "## Q1.\n",
      "'''\n",
      "def gen_random_clusters(num_clusters):\n",
      "    cluster_list = [alg_cluster.Cluster(set([]), random.random(), random.random(), 0, 0.0) for idx in range(0, num_clusters)]\n",
      "    #print \"random clusters\", cluster_list\n",
      "    \n",
      "    return cluster_list\n",
      "\n",
      "#gen_random_clusters(5)\n",
      "\n",
      "def running_times_closest_pair():\n",
      "    running_times_slow = []\n",
      "    running_times_fast = []\n",
      "    for n in range (2, 200, 1):\n",
      "        cluster_list = gen_random_clusters(n)\n",
      "        start = time.clock()\n",
      "        slow_closest_pairs(cluster_list)   \n",
      "        stop = time.clock()\n",
      "        elapsed_time = stop - start\n",
      "        running_times_slow.append(elapsed_time)\n",
      "        start = time.clock()\n",
      "        fast_closest_pair(cluster_list)   \n",
      "        stop = time.clock()\n",
      "        elapsed_time = stop - start\n",
      "        running_times_fast.append(elapsed_time)\n",
      "    \n",
      "    return running_times_slow, running_times_fast\n",
      "\n",
      "time_slow, time_fast = running_times_closest_pair()\n",
      "\n",
      "x = np.arange(2, 200, 1)\n",
      "plt.plot(x, time_slow, 'b-', label='slow_closest_pairs')\n",
      "plt.plot(x, time_fast, 'r-', label='fast_closest_pair')\n",
      "\n",
      "plt.legend(loc='upper right')\n",
      "\n",
      "title('Slow vs Fast computation  of closest pair using Desktop Python');\n",
      "plt.xlabel('Number of initial clusters')\n",
      "plt.ylabel('Running Time in seconds')\n",
      "plt.show()\n",
      "'''\n",
      "\n",
      "## Q7.\n",
      "\n",
      "DATA_111_TABLE = load_data_table(DATA_111_URL)\n",
      "DATA_290_TABLE = load_data_table(DATA_290_URL)\n",
      "DATA_896_TABLE = load_data_table(DATA_896_URL)\n",
      "\n",
      "def compute_distortion(cluster_list, data_table):\n",
      "    \n",
      "    distortion = sum([cluster.cluster_error(data_table) for cluster in cluster_list])\n",
      "    \n",
      "    return distortion\n",
      "\n",
      "\n",
      "def run_7(data_table):\n",
      "    \n",
      "    #data_table = load_data_table(DATA_111_URL)\n",
      "    \n",
      "    singleton_list = []\n",
      "    for line in data_table:\n",
      "        singleton_list.append(alg_cluster.Cluster(set([line[0]]), line[1], line[2], line[3], line[4]))\n",
      "    \n",
      "    #cluster_list = alg_project3_solution.hierarchical_clustering(singleton_list, 9)   \n",
      "    cluster_list = alg_project3_solution.kmeans_clustering(singleton_list, 9, 5)\n",
      "    \n",
      "    distortion = compute_distortion(cluster_list, data_table)\n",
      "    print \"distortion\", distortion\n",
      "\n",
      "\n",
      "#run_7(DATA_111_TABLE)\n",
      "\n",
      "\n",
      "## Q10.\n",
      "\n",
      "\n",
      "def run_kmeans(data_table):\n",
      "    singleton_list = []\n",
      "    for line in data_table:\n",
      "        singleton_list.append(alg_cluster.Cluster(set([line[0]]), line[1], line[2], line[3], line[4]))\n",
      "    distortion_list = []\n",
      "    for num_clusters in range(6, 21):\n",
      "        cluster_list = alg_project3_solution.kmeans_clustering(singleton_list, num_clusters, 5)\n",
      "        distortion = compute_distortion(cluster_list, data_table)  \n",
      "        distortion_list.append(distortion)\n",
      "    \n",
      "    return distortion_list\n",
      "\n",
      "k_means_111 = run_kmeans(DATA_111_TABLE)\n",
      "k_means_290 = run_kmeans(DATA_290_TABLE)\n",
      "k_means_896 = run_kmeans(DATA_896_TABLE)\n",
      "print \"kmeans111\", k_means_111\n",
      "print \"kmeans290\", k_means_290\n",
      "print \"kmeans896\", k_means_896\n",
      "\n",
      "def run_hierarchical(data_table):\n",
      "    singleton_list = []\n",
      "    for line in data_table:\n",
      "        singleton_list.append(alg_cluster.Cluster(set([line[0]]), line[1], line[2], line[3], line[4]))\n",
      "    distortion_list = []\n",
      "    for num_clusters in range(6, 21):\n",
      "        cluster_list = alg_project3_solution.hierarchical_clustering(singleton_list, num_clusters)\n",
      "        distortion = compute_distortion(cluster_list, data_table)  \n",
      "        distortion_list.append(distortion)\n",
      "    \n",
      "    return distortion_list\n",
      "\n",
      "hierarchical_111 = run_hierarchical(DATA_111_TABLE)\n",
      "hierarchical_290 = run_hierarchical(DATA_290_TABLE)\n",
      "hierarchical_896 = run_hierarchical(DATA_896_TABLE)\n",
      "\n",
      "print \"hierarchical111\", hierarchical_111\n",
      "print \"hierarchical290\", hierarchical_290\n",
      "print \"hierarchical896\", hierarchical_896\n",
      "\n",
      "plt.plot(hierarchical_111, 'b-', label='hierarchical clustering')\n",
      "plt.plot(k_means_111, 'r-', label='k-means clustering, iterations=5')\n",
      "plt.legend(loc='upper right')\n",
      "\n",
      "title('Comparison of distortion (111 county dataset)');\n",
      "plt.xlim([6, 20])\n",
      "plt.xlabel('Number of output clusters')\n",
      "plt.ylabel('Distortion of clustering')\n",
      "plt.show()\n",
      "    "
     ],
     "language": "python",
     "metadata": {},
     "outputs": [
      {
       "output_type": "stream",
       "stream": "stdout",
       "text": [
        "Loaded 111 data points\n",
        "Loaded"
       ]
      },
      {
       "output_type": "stream",
       "stream": "stdout",
       "text": [
        " 290 data points\n",
        "Loaded"
       ]
      },
      {
       "output_type": "stream",
       "stream": "stdout",
       "text": [
        " 896 data points\n",
        "kmeans111"
       ]
      },
      {
       "output_type": "stream",
       "stream": "stdout",
       "text": [
        " [855406302600.92993, 480503404944.00757, 430845493901.49792, 271254226924.20047, 175790688405.04092, 174267507472.60236, 173535638065.6752, 173058588040.28055, 165471040577.26993, 164745271371.35181, 163567291743.99063, 162018028052.88672, 161626921206.76382, 123483080788.27681, 123389671106.62061]\n",
        "kmeans290 [1432446364647.4839, 1256566786124.0432, 726141205120.55896, 656031563613.52332, 619318206656.08325, 557173759501.5332, 449630999209.31024, 397796574329.07288, 397061951861.49554, 238910074068.03934, 232286884261.00916, 220231070772.07336, 218182336738.10098, 215763229779.78592, 186562044404.06274]\n",
        "kmeans896 [2376173737632.7998, 1632162002379.8992, 1149516152182.7866, 1005638949041.6797, 941617184525.75024, 873017865209.88794, 717297472806.94751, 707481162063.75098, 693980006271.28076, 477113007869.91351, 475260676178.591, 441641633333.34509, 418814444487.69415, 392190427938.54211, 341850583704.05469]\n",
        "hierarchical111"
       ]
      },
      {
       "output_type": "stream",
       "stream": "stdout",
       "text": [
        " [473061548301.70715, 473061548301.70715, 473061548301.70715, 473061548301.70715, 473061548301.70715, 473061548301.70715, 473061548301.70715, 473061548301.70715, 473061548301.70715, 473061548301.70715, 473061548301.70715, 473061548301.70715, 473061548301.70715, 473061548301.70715, 473061548301.70715]\n",
        "hierarchical290 [1721363375274.085, 1721363375274.085, 1721363375274.085, 1721363375274.085, 1721363375274.085, 1721363375274.085, 1721363375274.085, 1721363375274.085, 1721363375274.085, 1721363375274.085, 1721363375274.085, 1721363375274.085, 1721363375274.085, 1721363375274.085, 1721363375274.085]\n",
        "hierarchical896 [2207696329164.5967, 2207696329164.5967, 2207696329164.5967, 2207696329164.5967, 2207696329164.5967, 2207696329164.5967, 2207696329164.5967, 2207696329164.5967, 2207696329164.5967, 2207696329164.5967, 2207696329164.5967, 2207696329164.5967, 2207696329164.5967, 2207696329164.5967, 2207696329164.5967]\n"
       ]
      },
      {
       "ename": "NameError",
       "evalue": "name 'pylab' is not defined",
       "output_type": "pyerr",
       "traceback": [
        "\u001b[1;31m---------------------------------------------------------------------------\u001b[0m\n\u001b[1;31mNameError\u001b[0m                                 Traceback (most recent call last)",
        "\u001b[1;32m<ipython-input-31-e7f698b6feed>\u001b[0m in \u001b[0;36m<module>\u001b[1;34m()\u001b[0m\n\u001b[0;32m    476\u001b[0m \u001b[1;33m\u001b[0m\u001b[0m\n\u001b[0;32m    477\u001b[0m \u001b[0mtitle\u001b[0m\u001b[1;33m(\u001b[0m\u001b[1;34m'Comparison of distortion (111 county dataset)'\u001b[0m\u001b[1;33m)\u001b[0m\u001b[1;33m;\u001b[0m\u001b[1;33m\u001b[0m\u001b[0m\n\u001b[1;32m--> 478\u001b[1;33m \u001b[0mpylab\u001b[0m\u001b[1;33m.\u001b[0m\u001b[0mxlim\u001b[0m\u001b[1;33m(\u001b[0m\u001b[1;33m[\u001b[0m\u001b[1;36m6\u001b[0m\u001b[1;33m,\u001b[0m \u001b[1;36m20\u001b[0m\u001b[1;33m]\u001b[0m\u001b[1;33m)\u001b[0m\u001b[1;33m\u001b[0m\u001b[0m\n\u001b[0m\u001b[0;32m    479\u001b[0m \u001b[0mplt\u001b[0m\u001b[1;33m.\u001b[0m\u001b[0mxlabel\u001b[0m\u001b[1;33m(\u001b[0m\u001b[1;34m'Number of output clusters'\u001b[0m\u001b[1;33m)\u001b[0m\u001b[1;33m\u001b[0m\u001b[0m\n\u001b[0;32m    480\u001b[0m \u001b[0mplt\u001b[0m\u001b[1;33m.\u001b[0m\u001b[0mylabel\u001b[0m\u001b[1;33m(\u001b[0m\u001b[1;34m'Distortion of clustering'\u001b[0m\u001b[1;33m)\u001b[0m\u001b[1;33m\u001b[0m\u001b[0m\n",
        "\u001b[1;31mNameError\u001b[0m: name 'pylab' is not defined"
       ]
      },
      {
       "metadata": {},
       "output_type": "display_data",
       "png": "[encoded data removed]",
       "text": [
        "<matplotlib.figure.Figure at 0xbd03710>"
       ]
      }
     ],
     "prompt_number": 31
    },
    {
     "cell_type": "code",
     "collapsed": false,
     "input": [],
     "language": "python",
     "metadata": {},
     "outputs": []
    }
   ],
   "metadata": {}
  }
 ]
}